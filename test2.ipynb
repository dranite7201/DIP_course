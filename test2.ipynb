{
 "cells": [
  {
   "cell_type": "markdown",
   "metadata": {},
   "source": [
    "Add, subtract, multiply image with a specific value"
   ]
  },
  {
   "cell_type": "code",
   "execution_count": 4,
   "metadata": {},
   "outputs": [],
   "source": [
    "import numpy as np\n",
    "import cv2\n",
    "from matplotlib import pyplot as plt\n",
    "img = cv2.imread(\"images/venice.jpg\",0)\n",
    "img = cv2.resize(img, (300,200))\n",
    "tr_img = 4 + 5 * img\n",
    "tr_img = tr_img - tr_img * (tr_img <0) - tr_img * (tr_img >255)\n",
    "np.array(tr_img,dtype=np.uint8)\n",
    "cv2.imshow(\"original img\", img)\n",
    "cv2.imshow(\"changed img\", tr_img)\n",
    "\n",
    "cv2.waitKey(0)\n",
    "cv2.destroyAllWindows()"
   ]
  },
  {
   "cell_type": "markdown",
   "metadata": {},
   "source": [
    "Adjust brightness with formulas log"
   ]
  },
  {
   "cell_type": "code",
   "execution_count": 1,
   "metadata": {},
   "outputs": [],
   "source": [
    "import numpy as np\n",
    "import cv2\n",
    "from matplotlib import pyplot as plt\n",
    "\n",
    "g_img = cv2.imread(\"images/venice.jpg\",0)\n",
    "g_img = cv2.resize(g_img, (300,200))\n",
    "L = np.amax(g_img)\n",
    "c = 255/np.log(1+L)\n",
    "g_img_new = c*np.log(g_img+1)\n",
    "\n",
    "\n",
    "g_img_new = np.array(g_img_new, dtype=np.uint8)\n",
    "cv2.imshow(\"original img\", g_img)\n",
    "cv2.imshow(\"changed img\", g_img_new)\n",
    "\n",
    "cv2.waitKey(0)          \n",
    "cv2.destroyAllWindows() "
   ]
  },
  {
   "cell_type": "markdown",
   "metadata": {},
   "source": [
    "Adjust brightness with power"
   ]
  },
  {
   "cell_type": "code",
   "execution_count": 2,
   "metadata": {},
   "outputs": [],
   "source": [
    "import cv2\n",
    "import numpy as np\n",
    "\n",
    "g_img = cv2.imread('images/venice.jpg', 0)\n",
    "g_img = cv2.resize(g_img, (300,200))\n",
    "c = 255/(255**2)\n",
    "g_img_new = c* (g_img.astype(float)**2)\n",
    "\n",
    "np.array(g_img_new, dtype=np.uint8)\n",
    "\n",
    "cv2.imshow(\"original img\", g_img)\n",
    "cv2.imshow(\"changed img\", g_img_new)\n",
    "\n",
    "cv2.waitKey(0)      \n",
    "cv2.destroyAllWindows()"
   ]
  },
  {
   "cell_type": "markdown",
   "metadata": {},
   "source": []
  },
  {
   "cell_type": "code",
   "execution_count": 1,
   "metadata": {},
   "outputs": [
    {
     "data": {
      "text/plain": [
       "-1"
      ]
     },
     "execution_count": 1,
     "metadata": {},
     "output_type": "execute_result"
    }
   ],
   "source": [
    "import cv2\n",
    "import numpy as np\n",
    "\n",
    "g_img = cv2.imread('images/dog.jpg', 0)\n",
    "g_img = cv2.resize(g_img, (300,200))\n",
    "gamma = [0.1, 0.2, 0.5, 0.7, 0.9, 1.1, 1.7, 1.9, 2, 3, 4, 5]\n",
    "for i in gamma:\n",
    "    gam_img = g_img**i\n",
    "    cv2.imshow('gamma img ' + str(i), gam_img)\n",
    "cv2.waitKey(0)    \n",
    "\n",
    "\n"
   ]
  },
  {
   "cell_type": "code",
   "execution_count": 6,
   "metadata": {},
   "outputs": [
    {
     "data": {
      "image/png": "[encoded data removed]",
      "text/plain": [
       "<Figure size 432x288 with 1 Axes>"
      ]
     },
     "metadata": {
      "needs_background": "light"
     },
     "output_type": "display_data"
    },
    {
     "data": {
      "text/plain": [
       "-1"
      ]
     },
     "execution_count": 6,
     "metadata": {},
     "output_type": "execute_result"
    }
   ],
   "source": [
    "import numpy as np\n",
    "import cv2 as cv\n",
    "from matplotlib import pyplot as plt\n",
    "img = cv.imread('images/venice.jpg',0)\n",
    "hist = cv.calcHist([img],[0],None,[256],[0,256])\n",
    "plt.figure()\n",
    "plt.title('grayscale histogram')\n",
    "plt.xlabel('Bins')\n",
    "plt.ylabel('# of pixel')\n",
    "plt.plot(hist)\n",
    "plt.xlim([0,256])\n",
    "plt.show()\n",
    "cv.waitKey(0)"
   ]
  },
  {
   "cell_type": "code",
   "execution_count": 1,
   "metadata": {},
   "outputs": [],
   "source": [
    "\n",
    "import cv2\n",
    "import numpy as np\n",
    "  \n",
    "image = cv2.imread(\"images/viet_tay.jpg\",0)\n",
    "  \n",
    "\n",
    "clahe = cv2.createCLAHE(clipLimit = 5)\n",
    "final_img = clahe.apply(image) + 30\n",
    "  \n",
    "_, ordinary_img = cv2.threshold(image, 155, 255, cv2.THRESH_BINARY)\n",
    "  \n",
    "cv2.imshow(\"ordinary threshold\", ordinary_img)\n",
    "cv2.imshow(\"CLAHE image\", final_img)\n",
    "cv2.waitKey(0)"
   ]
  }
 ],
 "metadata": {
  "interpreter": {
   "hash": "234887c5c2e472bc05baa19be83a550a17774cc76a8884d98e98980fb4f10cf4"
  },
  "kernelspec": {
   "display_name": "Python 3.9.7 64-bit",
   "name": "python3"
  },
  "language_info": {
   "codemirror_mode": {
    "name": "ipython",
    "version": 3
   },
   "file_extension": ".py",
   "mimetype": "text/x-python",
   "name": "python",
   "nbconvert_exporter": "python",
   "pygments_lexer": "ipython3",
   "version": "3.9.7"
  },
  "orig_nbformat": 4
 },
 "nbformat": 4,
 "nbformat_minor": 2
}
