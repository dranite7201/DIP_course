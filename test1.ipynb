{
 "cells": [
  {
   "cell_type": "markdown",
   "metadata": {},
   "source": [
    "Show image"
   ]
  },
  {
   "cell_type": "code",
   "execution_count": 2,
   "metadata": {},
   "outputs": [
    {
     "data": {
      "text/plain": [
       "<matplotlib.image.AxesImage at 0x215a5ab7610>"
      ]
     },
     "execution_count": 2,
     "metadata": {},
     "output_type": "execute_result"
    },
    {
     "data": {
      "image/png": "[encoded data removed]",
      "text/plain": [
       "<Figure size 432x288 with 1 Axes>"
      ]
     },
     "metadata": {
      "needs_background": "light"
     },
     "output_type": "display_data"
    }
   ],
   "source": [
    "import cv2\n",
    "from matplotlib import pyplot as plt \n",
    "img = cv2.imread(\"images/RGBY.jpg\", 1)\n",
    "plt.imshow(img)\n",
    "\n"
   ]
  },
  {
   "cell_type": "markdown",
   "metadata": {},
   "source": [
    "Resize image"
   ]
  },
  {
   "cell_type": "code",
   "execution_count": 3,
   "metadata": {},
   "outputs": [],
   "source": [
    "resized = cv2.resize(img, None, fx=2, fy=2, interpolation = cv2.INTER_CUBIC)\n",
    "# cv2.imshow(\"original pic\", img)\n",
    "# cv2.imshow(\"resized pic\", resized)\n",
    "# cv2.waitKey(0)          \n",
    "# cv2.destroyAllWindows() \n"
   ]
  },
  {
   "cell_type": "markdown",
   "metadata": {},
   "source": [
    "Pixel value of each corner"
   ]
  },
  {
   "cell_type": "code",
   "execution_count": 10,
   "metadata": {},
   "outputs": [
    {
     "name": "stdout",
     "output_type": "stream",
     "text": [
      "(586, 415, 3)\n",
      "Top left [38  3  0]\n",
      "Top right [ 0 20 21]\n",
      "Bottom Left [ 0 55  0]\n",
      "Bottom right [ 16   6 250]\n"
     ]
    }
   ],
   "source": [
    "print(img.shape)\n",
    "print(\"Top left\", img[0,0])    \n",
    "print(\"Top right\", img[0, 400])  \n",
    "print(\"Bottom Left\", img[580, 0]) \n",
    "print(\"Bottom right\", img[580, 400])  \n",
    "\n",
    "cv2.waitKey(0)          \n",
    "cv2.destroyAllWindows() \n"
   ]
  },
  {
   "cell_type": "markdown",
   "metadata": {},
   "source": [
    "Show individual color channels in the image "
   ]
  },
  {
   "cell_type": "code",
   "execution_count": 18,
   "metadata": {},
   "outputs": [],
   "source": [
    "blue = img[:, :, 0]\n",
    "green = img[:, :,1]\n",
    "red = img[:,:,2]\n",
    "\n",
    "cv2.imshow(\"red pic\",red)\n",
    "cv2.imshow(\"green pic\", green)\n",
    "cv2.imshow(\"blue pic\", blue)\n",
    "cv2.waitKey(0)          \n",
    "cv2.destroyAllWindows() "
   ]
  },
  {
   "cell_type": "markdown",
   "metadata": {},
   "source": [
    "Split all channels at once"
   ]
  },
  {
   "cell_type": "code",
   "execution_count": 3,
   "metadata": {},
   "outputs": [],
   "source": [
    "b,g,r = cv2.split(img)\n",
    "cv2.imshow(\"green pic\", g)\n",
    "cv2.waitKey(0)          \n",
    "cv2.destroyAllWindows() "
   ]
  },
  {
   "cell_type": "markdown",
   "metadata": {},
   "source": [
    "merge each image into bgr"
   ]
  },
  {
   "cell_type": "code",
   "execution_count": 4,
   "metadata": {},
   "outputs": [],
   "source": [
    "img_merged = cv2.merge((b,g,r))\n",
    "cv2.imshow(\"merged pic\",img_merged)\n",
    "cv2.waitKey(0)          \n",
    "cv2.destroyAllWindows() "
   ]
  },
  {
   "cell_type": "markdown",
   "metadata": {},
   "source": [
    "edge detection"
   ]
  },
  {
   "cell_type": "code",
   "execution_count": 6,
   "metadata": {},
   "outputs": [],
   "source": [
    "\n",
    "osteo_img = cv2.imread(\"images/Osteosarcoma_01.tif\", 0)\n",
    "edges = cv2.Canny(osteo_img,100,200) \n",
    "cv2.imshow(\"Original Image\", osteo_img)\n",
    "cv2.imshow(\"Canny\", edges)\n",
    "cv2.waitKey(0)          \n",
    "cv2.destroyAllWindows()  "
   ]
  }
 ],
 "metadata": {
  "interpreter": {
   "hash": "234887c5c2e472bc05baa19be83a550a17774cc76a8884d98e98980fb4f10cf4"
  },
  "kernelspec": {
   "display_name": "Python 3.9.7 64-bit",
   "name": "python3"
  },
  "language_info": {
   "codemirror_mode": {
    "name": "ipython",
    "version": 3
   },
   "file_extension": ".py",
   "mimetype": "text/x-python",
   "name": "python",
   "nbconvert_exporter": "python",
   "pygments_lexer": "ipython3",
   "version": "3.9.7"
  },
  "orig_nbformat": 4
 },
 "nbformat": 4,
 "nbformat_minor": 2
}
